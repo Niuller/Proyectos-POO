{
 "cells": [
  {
   "cell_type": "code",
   "execution_count": 1,
   "id": "83f10271",
   "metadata": {},
   "outputs": [
    {
     "name": "stdout",
     "output_type": "stream",
     "text": [
      "Curso de POO\n"
     ]
    }
   ],
   "source": [
    "print(\"Curso de POO\")"
   ]
  },
  {
   "cell_type": "markdown",
   "id": "43353745",
   "metadata": {},
   "source": [
    "Estas son las indicaciones"
   ]
  }
 ],
 "metadata": {
  "kernelspec": {
   "display_name": ".venv",
   "language": "python",
   "name": "python3"
  },
  "language_info": {
   "codemirror_mode": {
    "name": "ipython",
    "version": 3
   },
   "file_extension": ".py",
   "mimetype": "text/x-python",
   "name": "python",
   "nbconvert_exporter": "python",
   "pygments_lexer": "ipython3",
   "version": "3.12.10"
  }
 },
 "nbformat": 4,
 "nbformat_minor": 5
}
