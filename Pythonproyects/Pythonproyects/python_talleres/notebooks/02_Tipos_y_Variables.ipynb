{
 "cells": [
  {
   "cell_type": "markdown",
   "metadata": {},
   "source": [
    "# 2) Tipos de datos y variables\n",
    "\n",
    "## ¿Qué son?\n",
    "Los **tipos** definen la clase de datos (entero, flotante, texto, booleano). Las **variables** son nombres que apuntan a valores en memoria.\n",
    "\n",
    "## ¿Para qué se usan?\n",
    "Para **representar y transformar información**. Python es *tipado dinámico*: el tipo se asocia al valor, no al nombre.\n",
    "\n",
    "## Tipos básicos\n",
    "- `int`, `float`, `str`, `bool`\n",
    "- Mutabilidad: `str` es inmutable, `list` es mutable.\n",
    "- Conversión de tipos: `int(\"42\")`, `float(\"3.14\")`, `str(99)`.\n"
   ]
  },
  {
   "cell_type": "code",
   "execution_count": null,
   "metadata": {},
   "outputs": [],
   "source": [
    "edad = 28\n",
    "altura = 1.72\n",
    "nombre = \"Ada\"\n",
    "es_estudiante = True\n",
    "\n",
    "print(type(edad), type(altura), type(nombre), type(es_estudiante))\n",
    "print(f\"{nombre} mide {altura} m y tiene {edad} años. ¿Estudia? {es_estudiante}\")\n"
   ]
  },
  {
   "cell_type": "markdown",
   "metadata": {},
   "source": [
    "### Ejercicios\n",
    "- E1: Declara tres variables de distintos tipos y muéstralas con su tipo.\n",
    "- E2: Convierte `\"99\"` a entero y súmalo con 1.\n",
    "- E3: Pide por `input()` nombre y edad, y muestra un mensaje formateado.\n",
    "\n",
    "### Reto extra\n",
    "Calcula el **IMC**: pide peso (kg) y altura (m), imprime el resultado con dos decimales.\n"
   ]
  },
  {
   "cell_type": "code",
   "execution_count": 3,
   "id": "4b73d20a",
   "metadata": {},
   "outputs": [
    {
     "name": "stdout",
     "output_type": "stream",
     "text": [
      "100\n",
      "Su nombre es:  jhojan y su edad es:  21\n"
     ]
    }
   ],
   "source": [
    "Dia = \"99\"\n",
    "altura = 1.85\n",
    "nombre = \"Camilo\"\n",
    "print(int(Dia) + 1)\n",
    "\n",
    "nombre = str(input(\"Ingrese su nombre: \\n\"))\n",
    "Edad = int (input(\"Ingrese su Edad: \\n\"))\n",
    "print(\"Su nombre es: \", nombre, \"y su edad es: \", Edad)\n",
    "\n"
   ]
  },
  {
   "cell_type": "code",
   "execution_count": null,
   "metadata": {},
   "outputs": [],
   "source": [
    "# Plantilla para IMC\n",
    "peso = 70.0\n",
    "altura = 1.75\n",
    "imc = peso / (altura ** 2)\n",
    "print(f\"IMC: {imc:.2f}\")\n"
   ]
  }
 ],
 "metadata": {
  "kernelspec": {
   "display_name": ".venv",
   "language": "python",
   "name": "python3"
  },
  "language_info": {
   "codemirror_mode": {
    "name": "ipython",
    "version": 3
   },
   "file_extension": ".py",
   "mimetype": "text/x-python",
   "name": "python",
   "nbconvert_exporter": "python",
   "pygments_lexer": "ipython3",
   "version": "3.12.10"
  }
 },
 "nbformat": 4,
 "nbformat_minor": 5
}
